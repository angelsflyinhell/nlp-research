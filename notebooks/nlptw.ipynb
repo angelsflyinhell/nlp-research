{
 "cells": [
  {
   "cell_type": "markdown",
   "metadata": {},
   "source": [
    "# NLP-TWITTER v1\n",
    "A text generation model that can generate tweets, which is also trained on tweets."
   ]
  }
 ],
 "metadata": {
  "language_info": {
   "name": "python"
  },
  "orig_nbformat": 4
 },
 "nbformat": 4,
 "nbformat_minor": 2
}
